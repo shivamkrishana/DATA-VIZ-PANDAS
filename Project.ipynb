{
 "cells": [
  {
   "cell_type": "code",
   "execution_count": 1,
   "id": "bc806793",
   "metadata": {},
   "outputs": [],
   "source": [
    "#TASK 1"
   ]
  },
  {
   "cell_type": "code",
   "execution_count": null,
   "id": "56a6acc8",
   "metadata": {},
   "outputs": [],
   "source": [
    "#READING THE DATAFRAMES"
   ]
  },
  {
   "cell_type": "code",
   "execution_count": 2,
   "id": "d16c9702",
   "metadata": {},
   "outputs": [],
   "source": [
    "import pandas as pd"
   ]
  },
  {
   "cell_type": "code",
   "execution_count": 3,
   "id": "f6ef8075",
   "metadata": {},
   "outputs": [],
   "source": [
    "df1=pd.read_csv(\"df1\",index_col=0)"
   ]
  },
  {
   "cell_type": "code",
   "execution_count": 4,
   "id": "edb2ba26",
   "metadata": {},
   "outputs": [],
   "source": [
    "df2=pd.read_csv(\"df2\")"
   ]
  },
  {
   "cell_type": "code",
   "execution_count": 5,
   "id": "987fdc39",
   "metadata": {},
   "outputs": [],
   "source": [
    "df3=pd.read_csv(\"df3\")"
   ]
  },
  {
   "cell_type": "code",
   "execution_count": 6,
   "id": "c68852ca",
   "metadata": {},
   "outputs": [],
   "source": [
    "#DISPLAYING THE DATAFRAMES"
   ]
  },
  {
   "cell_type": "code",
   "execution_count": 7,
   "id": "39bfae2f",
   "metadata": {},
   "outputs": [
    {
     "data": {
      "text/html": [
       "<div>\n",
       "<style scoped>\n",
       "    .dataframe tbody tr th:only-of-type {\n",
       "        vertical-align: middle;\n",
       "    }\n",
       "\n",
       "    .dataframe tbody tr th {\n",
       "        vertical-align: top;\n",
       "    }\n",
       "\n",
       "    .dataframe thead th {\n",
       "        text-align: right;\n",
       "    }\n",
       "</style>\n",
       "<table border=\"1\" class=\"dataframe\">\n",
       "  <thead>\n",
       "    <tr style=\"text-align: right;\">\n",
       "      <th></th>\n",
       "      <th>A</th>\n",
       "      <th>B</th>\n",
       "      <th>C</th>\n",
       "      <th>D</th>\n",
       "    </tr>\n",
       "  </thead>\n",
       "  <tbody>\n",
       "    <tr>\n",
       "      <th>2000-01-01</th>\n",
       "      <td>1.339091</td>\n",
       "      <td>-0.163643</td>\n",
       "      <td>-0.646443</td>\n",
       "      <td>1.041233</td>\n",
       "    </tr>\n",
       "    <tr>\n",
       "      <th>2000-01-02</th>\n",
       "      <td>-0.774984</td>\n",
       "      <td>0.137034</td>\n",
       "      <td>-0.882716</td>\n",
       "      <td>-2.253382</td>\n",
       "    </tr>\n",
       "    <tr>\n",
       "      <th>2000-01-03</th>\n",
       "      <td>-0.921037</td>\n",
       "      <td>-0.482943</td>\n",
       "      <td>-0.417100</td>\n",
       "      <td>0.478638</td>\n",
       "    </tr>\n",
       "    <tr>\n",
       "      <th>2000-01-04</th>\n",
       "      <td>-1.738808</td>\n",
       "      <td>-0.072973</td>\n",
       "      <td>0.056517</td>\n",
       "      <td>0.015085</td>\n",
       "    </tr>\n",
       "    <tr>\n",
       "      <th>2000-01-05</th>\n",
       "      <td>-0.905980</td>\n",
       "      <td>1.778576</td>\n",
       "      <td>0.381918</td>\n",
       "      <td>0.291436</td>\n",
       "    </tr>\n",
       "    <tr>\n",
       "      <th>...</th>\n",
       "      <td>...</td>\n",
       "      <td>...</td>\n",
       "      <td>...</td>\n",
       "      <td>...</td>\n",
       "    </tr>\n",
       "    <tr>\n",
       "      <th>2002-09-22</th>\n",
       "      <td>1.013897</td>\n",
       "      <td>-0.288680</td>\n",
       "      <td>-0.342295</td>\n",
       "      <td>-0.638537</td>\n",
       "    </tr>\n",
       "    <tr>\n",
       "      <th>2002-09-23</th>\n",
       "      <td>-0.642659</td>\n",
       "      <td>-0.104725</td>\n",
       "      <td>-0.631829</td>\n",
       "      <td>-0.909483</td>\n",
       "    </tr>\n",
       "    <tr>\n",
       "      <th>2002-09-24</th>\n",
       "      <td>0.370136</td>\n",
       "      <td>0.233219</td>\n",
       "      <td>0.535897</td>\n",
       "      <td>-1.552605</td>\n",
       "    </tr>\n",
       "    <tr>\n",
       "      <th>2002-09-25</th>\n",
       "      <td>0.183339</td>\n",
       "      <td>1.285783</td>\n",
       "      <td>-1.052593</td>\n",
       "      <td>-2.565844</td>\n",
       "    </tr>\n",
       "    <tr>\n",
       "      <th>2002-09-26</th>\n",
       "      <td>0.775133</td>\n",
       "      <td>-0.850374</td>\n",
       "      <td>0.486728</td>\n",
       "      <td>-1.053427</td>\n",
       "    </tr>\n",
       "  </tbody>\n",
       "</table>\n",
       "<p>1000 rows × 4 columns</p>\n",
       "</div>"
      ],
      "text/plain": [
       "                   A         B         C         D\n",
       "2000-01-01  1.339091 -0.163643 -0.646443  1.041233\n",
       "2000-01-02 -0.774984  0.137034 -0.882716 -2.253382\n",
       "2000-01-03 -0.921037 -0.482943 -0.417100  0.478638\n",
       "2000-01-04 -1.738808 -0.072973  0.056517  0.015085\n",
       "2000-01-05 -0.905980  1.778576  0.381918  0.291436\n",
       "...              ...       ...       ...       ...\n",
       "2002-09-22  1.013897 -0.288680 -0.342295 -0.638537\n",
       "2002-09-23 -0.642659 -0.104725 -0.631829 -0.909483\n",
       "2002-09-24  0.370136  0.233219  0.535897 -1.552605\n",
       "2002-09-25  0.183339  1.285783 -1.052593 -2.565844\n",
       "2002-09-26  0.775133 -0.850374  0.486728 -1.053427\n",
       "\n",
       "[1000 rows x 4 columns]"
      ]
     },
     "execution_count": 7,
     "metadata": {},
     "output_type": "execute_result"
    }
   ],
   "source": [
    "df1"
   ]
  },
  {
   "cell_type": "code",
   "execution_count": 8,
   "id": "b6691a96",
   "metadata": {},
   "outputs": [
    {
     "data": {
      "text/html": [
       "<div>\n",
       "<style scoped>\n",
       "    .dataframe tbody tr th:only-of-type {\n",
       "        vertical-align: middle;\n",
       "    }\n",
       "\n",
       "    .dataframe tbody tr th {\n",
       "        vertical-align: top;\n",
       "    }\n",
       "\n",
       "    .dataframe thead th {\n",
       "        text-align: right;\n",
       "    }\n",
       "</style>\n",
       "<table border=\"1\" class=\"dataframe\">\n",
       "  <thead>\n",
       "    <tr style=\"text-align: right;\">\n",
       "      <th></th>\n",
       "      <th>a</th>\n",
       "      <th>b</th>\n",
       "      <th>c</th>\n",
       "      <th>d</th>\n",
       "    </tr>\n",
       "  </thead>\n",
       "  <tbody>\n",
       "    <tr>\n",
       "      <th>0</th>\n",
       "      <td>0.039762</td>\n",
       "      <td>0.218517</td>\n",
       "      <td>0.103423</td>\n",
       "      <td>0.957904</td>\n",
       "    </tr>\n",
       "    <tr>\n",
       "      <th>1</th>\n",
       "      <td>0.937288</td>\n",
       "      <td>0.041567</td>\n",
       "      <td>0.899125</td>\n",
       "      <td>0.977680</td>\n",
       "    </tr>\n",
       "    <tr>\n",
       "      <th>2</th>\n",
       "      <td>0.780504</td>\n",
       "      <td>0.008948</td>\n",
       "      <td>0.557808</td>\n",
       "      <td>0.797510</td>\n",
       "    </tr>\n",
       "    <tr>\n",
       "      <th>3</th>\n",
       "      <td>0.672717</td>\n",
       "      <td>0.247870</td>\n",
       "      <td>0.264071</td>\n",
       "      <td>0.444358</td>\n",
       "    </tr>\n",
       "    <tr>\n",
       "      <th>4</th>\n",
       "      <td>0.053829</td>\n",
       "      <td>0.520124</td>\n",
       "      <td>0.552264</td>\n",
       "      <td>0.190008</td>\n",
       "    </tr>\n",
       "    <tr>\n",
       "      <th>5</th>\n",
       "      <td>0.286043</td>\n",
       "      <td>0.593465</td>\n",
       "      <td>0.907307</td>\n",
       "      <td>0.637898</td>\n",
       "    </tr>\n",
       "    <tr>\n",
       "      <th>6</th>\n",
       "      <td>0.430436</td>\n",
       "      <td>0.166230</td>\n",
       "      <td>0.469383</td>\n",
       "      <td>0.497701</td>\n",
       "    </tr>\n",
       "    <tr>\n",
       "      <th>7</th>\n",
       "      <td>0.312296</td>\n",
       "      <td>0.502823</td>\n",
       "      <td>0.806609</td>\n",
       "      <td>0.850519</td>\n",
       "    </tr>\n",
       "    <tr>\n",
       "      <th>8</th>\n",
       "      <td>0.187765</td>\n",
       "      <td>0.997075</td>\n",
       "      <td>0.895955</td>\n",
       "      <td>0.530390</td>\n",
       "    </tr>\n",
       "    <tr>\n",
       "      <th>9</th>\n",
       "      <td>0.908162</td>\n",
       "      <td>0.232726</td>\n",
       "      <td>0.414138</td>\n",
       "      <td>0.432007</td>\n",
       "    </tr>\n",
       "  </tbody>\n",
       "</table>\n",
       "</div>"
      ],
      "text/plain": [
       "          a         b         c         d\n",
       "0  0.039762  0.218517  0.103423  0.957904\n",
       "1  0.937288  0.041567  0.899125  0.977680\n",
       "2  0.780504  0.008948  0.557808  0.797510\n",
       "3  0.672717  0.247870  0.264071  0.444358\n",
       "4  0.053829  0.520124  0.552264  0.190008\n",
       "5  0.286043  0.593465  0.907307  0.637898\n",
       "6  0.430436  0.166230  0.469383  0.497701\n",
       "7  0.312296  0.502823  0.806609  0.850519\n",
       "8  0.187765  0.997075  0.895955  0.530390\n",
       "9  0.908162  0.232726  0.414138  0.432007"
      ]
     },
     "execution_count": 8,
     "metadata": {},
     "output_type": "execute_result"
    }
   ],
   "source": [
    "df2"
   ]
  },
  {
   "cell_type": "code",
   "execution_count": 9,
   "id": "1e488dab",
   "metadata": {},
   "outputs": [
    {
     "data": {
      "text/html": [
       "<div>\n",
       "<style scoped>\n",
       "    .dataframe tbody tr th:only-of-type {\n",
       "        vertical-align: middle;\n",
       "    }\n",
       "\n",
       "    .dataframe tbody tr th {\n",
       "        vertical-align: top;\n",
       "    }\n",
       "\n",
       "    .dataframe thead th {\n",
       "        text-align: right;\n",
       "    }\n",
       "</style>\n",
       "<table border=\"1\" class=\"dataframe\">\n",
       "  <thead>\n",
       "    <tr style=\"text-align: right;\">\n",
       "      <th></th>\n",
       "      <th>a</th>\n",
       "      <th>b</th>\n",
       "      <th>c</th>\n",
       "      <th>d</th>\n",
       "    </tr>\n",
       "  </thead>\n",
       "  <tbody>\n",
       "    <tr>\n",
       "      <th>0</th>\n",
       "      <td>0.336272</td>\n",
       "      <td>0.325011</td>\n",
       "      <td>0.001020</td>\n",
       "      <td>0.401402</td>\n",
       "    </tr>\n",
       "    <tr>\n",
       "      <th>1</th>\n",
       "      <td>0.980265</td>\n",
       "      <td>0.831835</td>\n",
       "      <td>0.772288</td>\n",
       "      <td>0.076485</td>\n",
       "    </tr>\n",
       "    <tr>\n",
       "      <th>2</th>\n",
       "      <td>0.480387</td>\n",
       "      <td>0.686839</td>\n",
       "      <td>0.000575</td>\n",
       "      <td>0.746758</td>\n",
       "    </tr>\n",
       "    <tr>\n",
       "      <th>3</th>\n",
       "      <td>0.502106</td>\n",
       "      <td>0.305142</td>\n",
       "      <td>0.768608</td>\n",
       "      <td>0.654685</td>\n",
       "    </tr>\n",
       "    <tr>\n",
       "      <th>4</th>\n",
       "      <td>0.856602</td>\n",
       "      <td>0.171448</td>\n",
       "      <td>0.157971</td>\n",
       "      <td>0.321231</td>\n",
       "    </tr>\n",
       "    <tr>\n",
       "      <th>...</th>\n",
       "      <td>...</td>\n",
       "      <td>...</td>\n",
       "      <td>...</td>\n",
       "      <td>...</td>\n",
       "    </tr>\n",
       "    <tr>\n",
       "      <th>495</th>\n",
       "      <td>0.528705</td>\n",
       "      <td>0.226122</td>\n",
       "      <td>0.055835</td>\n",
       "      <td>0.131962</td>\n",
       "    </tr>\n",
       "    <tr>\n",
       "      <th>496</th>\n",
       "      <td>0.324730</td>\n",
       "      <td>0.215201</td>\n",
       "      <td>0.935302</td>\n",
       "      <td>0.794115</td>\n",
       "    </tr>\n",
       "    <tr>\n",
       "      <th>497</th>\n",
       "      <td>0.118036</td>\n",
       "      <td>0.264574</td>\n",
       "      <td>0.629206</td>\n",
       "      <td>0.824062</td>\n",
       "    </tr>\n",
       "    <tr>\n",
       "      <th>498</th>\n",
       "      <td>0.227021</td>\n",
       "      <td>0.660209</td>\n",
       "      <td>0.851353</td>\n",
       "      <td>0.478676</td>\n",
       "    </tr>\n",
       "    <tr>\n",
       "      <th>499</th>\n",
       "      <td>0.466157</td>\n",
       "      <td>0.753000</td>\n",
       "      <td>0.115391</td>\n",
       "      <td>0.279712</td>\n",
       "    </tr>\n",
       "  </tbody>\n",
       "</table>\n",
       "<p>500 rows × 4 columns</p>\n",
       "</div>"
      ],
      "text/plain": [
       "            a         b         c         d\n",
       "0    0.336272  0.325011  0.001020  0.401402\n",
       "1    0.980265  0.831835  0.772288  0.076485\n",
       "2    0.480387  0.686839  0.000575  0.746758\n",
       "3    0.502106  0.305142  0.768608  0.654685\n",
       "4    0.856602  0.171448  0.157971  0.321231\n",
       "..        ...       ...       ...       ...\n",
       "495  0.528705  0.226122  0.055835  0.131962\n",
       "496  0.324730  0.215201  0.935302  0.794115\n",
       "497  0.118036  0.264574  0.629206  0.824062\n",
       "498  0.227021  0.660209  0.851353  0.478676\n",
       "499  0.466157  0.753000  0.115391  0.279712\n",
       "\n",
       "[500 rows x 4 columns]"
      ]
     },
     "execution_count": 9,
     "metadata": {},
     "output_type": "execute_result"
    }
   ],
   "source": [
    "df3"
   ]
  },
  {
   "cell_type": "code",
   "execution_count": 10,
   "id": "da0d9240",
   "metadata": {},
   "outputs": [
    {
     "data": {
      "text/html": [
       "<div>\n",
       "<style scoped>\n",
       "    .dataframe tbody tr th:only-of-type {\n",
       "        vertical-align: middle;\n",
       "    }\n",
       "\n",
       "    .dataframe tbody tr th {\n",
       "        vertical-align: top;\n",
       "    }\n",
       "\n",
       "    .dataframe thead th {\n",
       "        text-align: right;\n",
       "    }\n",
       "</style>\n",
       "<table border=\"1\" class=\"dataframe\">\n",
       "  <thead>\n",
       "    <tr style=\"text-align: right;\">\n",
       "      <th></th>\n",
       "      <th>A</th>\n",
       "      <th>B</th>\n",
       "      <th>C</th>\n",
       "      <th>D</th>\n",
       "    </tr>\n",
       "  </thead>\n",
       "  <tbody>\n",
       "    <tr>\n",
       "      <th>count</th>\n",
       "      <td>1000.000000</td>\n",
       "      <td>1000.000000</td>\n",
       "      <td>1000.000000</td>\n",
       "      <td>1000.000000</td>\n",
       "    </tr>\n",
       "    <tr>\n",
       "      <th>mean</th>\n",
       "      <td>-0.017755</td>\n",
       "      <td>0.048072</td>\n",
       "      <td>-0.001723</td>\n",
       "      <td>0.002432</td>\n",
       "    </tr>\n",
       "    <tr>\n",
       "      <th>std</th>\n",
       "      <td>0.957223</td>\n",
       "      <td>1.004197</td>\n",
       "      <td>0.982384</td>\n",
       "      <td>1.066366</td>\n",
       "    </tr>\n",
       "    <tr>\n",
       "      <th>min</th>\n",
       "      <td>-3.693201</td>\n",
       "      <td>-2.719020</td>\n",
       "      <td>-2.987971</td>\n",
       "      <td>-3.182746</td>\n",
       "    </tr>\n",
       "    <tr>\n",
       "      <th>25%</th>\n",
       "      <td>-0.639101</td>\n",
       "      <td>-0.652530</td>\n",
       "      <td>-0.690831</td>\n",
       "      <td>-0.676107</td>\n",
       "    </tr>\n",
       "    <tr>\n",
       "      <th>50%</th>\n",
       "      <td>-0.017793</td>\n",
       "      <td>0.058035</td>\n",
       "      <td>-0.012805</td>\n",
       "      <td>-0.044868</td>\n",
       "    </tr>\n",
       "    <tr>\n",
       "      <th>75%</th>\n",
       "      <td>0.623478</td>\n",
       "      <td>0.696946</td>\n",
       "      <td>0.706496</td>\n",
       "      <td>0.721699</td>\n",
       "    </tr>\n",
       "    <tr>\n",
       "      <th>max</th>\n",
       "      <td>3.412236</td>\n",
       "      <td>3.199850</td>\n",
       "      <td>3.342484</td>\n",
       "      <td>2.879793</td>\n",
       "    </tr>\n",
       "  </tbody>\n",
       "</table>\n",
       "</div>"
      ],
      "text/plain": [
       "                 A            B            C            D\n",
       "count  1000.000000  1000.000000  1000.000000  1000.000000\n",
       "mean     -0.017755     0.048072    -0.001723     0.002432\n",
       "std       0.957223     1.004197     0.982384     1.066366\n",
       "min      -3.693201    -2.719020    -2.987971    -3.182746\n",
       "25%      -0.639101    -0.652530    -0.690831    -0.676107\n",
       "50%      -0.017793     0.058035    -0.012805    -0.044868\n",
       "75%       0.623478     0.696946     0.706496     0.721699\n",
       "max       3.412236     3.199850     3.342484     2.879793"
      ]
     },
     "execution_count": 10,
     "metadata": {},
     "output_type": "execute_result"
    }
   ],
   "source": [
    "df1.describe()"
   ]
  },
  {
   "cell_type": "code",
   "execution_count": 11,
   "id": "e4da38f5",
   "metadata": {},
   "outputs": [
    {
     "data": {
      "text/html": [
       "<div>\n",
       "<style scoped>\n",
       "    .dataframe tbody tr th:only-of-type {\n",
       "        vertical-align: middle;\n",
       "    }\n",
       "\n",
       "    .dataframe tbody tr th {\n",
       "        vertical-align: top;\n",
       "    }\n",
       "\n",
       "    .dataframe thead th {\n",
       "        text-align: right;\n",
       "    }\n",
       "</style>\n",
       "<table border=\"1\" class=\"dataframe\">\n",
       "  <thead>\n",
       "    <tr style=\"text-align: right;\">\n",
       "      <th></th>\n",
       "      <th>a</th>\n",
       "      <th>b</th>\n",
       "      <th>c</th>\n",
       "      <th>d</th>\n",
       "    </tr>\n",
       "  </thead>\n",
       "  <tbody>\n",
       "    <tr>\n",
       "      <th>count</th>\n",
       "      <td>10.000000</td>\n",
       "      <td>10.000000</td>\n",
       "      <td>10.000000</td>\n",
       "      <td>10.000000</td>\n",
       "    </tr>\n",
       "    <tr>\n",
       "      <th>mean</th>\n",
       "      <td>0.460880</td>\n",
       "      <td>0.352935</td>\n",
       "      <td>0.587008</td>\n",
       "      <td>0.631597</td>\n",
       "    </tr>\n",
       "    <tr>\n",
       "      <th>std</th>\n",
       "      <td>0.340793</td>\n",
       "      <td>0.301272</td>\n",
       "      <td>0.284332</td>\n",
       "      <td>0.258158</td>\n",
       "    </tr>\n",
       "    <tr>\n",
       "      <th>min</th>\n",
       "      <td>0.039762</td>\n",
       "      <td>0.008948</td>\n",
       "      <td>0.103423</td>\n",
       "      <td>0.190008</td>\n",
       "    </tr>\n",
       "    <tr>\n",
       "      <th>25%</th>\n",
       "      <td>0.212334</td>\n",
       "      <td>0.179302</td>\n",
       "      <td>0.427949</td>\n",
       "      <td>0.457694</td>\n",
       "    </tr>\n",
       "    <tr>\n",
       "      <th>50%</th>\n",
       "      <td>0.371366</td>\n",
       "      <td>0.240298</td>\n",
       "      <td>0.555036</td>\n",
       "      <td>0.584144</td>\n",
       "    </tr>\n",
       "    <tr>\n",
       "      <th>75%</th>\n",
       "      <td>0.753558</td>\n",
       "      <td>0.515799</td>\n",
       "      <td>0.873619</td>\n",
       "      <td>0.837267</td>\n",
       "    </tr>\n",
       "    <tr>\n",
       "      <th>max</th>\n",
       "      <td>0.937288</td>\n",
       "      <td>0.997075</td>\n",
       "      <td>0.907307</td>\n",
       "      <td>0.977680</td>\n",
       "    </tr>\n",
       "  </tbody>\n",
       "</table>\n",
       "</div>"
      ],
      "text/plain": [
       "               a          b          c          d\n",
       "count  10.000000  10.000000  10.000000  10.000000\n",
       "mean    0.460880   0.352935   0.587008   0.631597\n",
       "std     0.340793   0.301272   0.284332   0.258158\n",
       "min     0.039762   0.008948   0.103423   0.190008\n",
       "25%     0.212334   0.179302   0.427949   0.457694\n",
       "50%     0.371366   0.240298   0.555036   0.584144\n",
       "75%     0.753558   0.515799   0.873619   0.837267\n",
       "max     0.937288   0.997075   0.907307   0.977680"
      ]
     },
     "execution_count": 11,
     "metadata": {},
     "output_type": "execute_result"
    }
   ],
   "source": [
    "df2.describe()"
   ]
  },
  {
   "cell_type": "code",
   "execution_count": 12,
   "id": "656f9d8c",
   "metadata": {},
   "outputs": [
    {
     "data": {
      "text/html": [
       "<div>\n",
       "<style scoped>\n",
       "    .dataframe tbody tr th:only-of-type {\n",
       "        vertical-align: middle;\n",
       "    }\n",
       "\n",
       "    .dataframe tbody tr th {\n",
       "        vertical-align: top;\n",
       "    }\n",
       "\n",
       "    .dataframe thead th {\n",
       "        text-align: right;\n",
       "    }\n",
       "</style>\n",
       "<table border=\"1\" class=\"dataframe\">\n",
       "  <thead>\n",
       "    <tr style=\"text-align: right;\">\n",
       "      <th></th>\n",
       "      <th>a</th>\n",
       "      <th>b</th>\n",
       "      <th>c</th>\n",
       "      <th>d</th>\n",
       "    </tr>\n",
       "  </thead>\n",
       "  <tbody>\n",
       "    <tr>\n",
       "      <th>count</th>\n",
       "      <td>500.000000</td>\n",
       "      <td>500.000000</td>\n",
       "      <td>500.000000</td>\n",
       "      <td>500.000000</td>\n",
       "    </tr>\n",
       "    <tr>\n",
       "      <th>mean</th>\n",
       "      <td>0.485294</td>\n",
       "      <td>0.504049</td>\n",
       "      <td>0.506183</td>\n",
       "      <td>0.517390</td>\n",
       "    </tr>\n",
       "    <tr>\n",
       "      <th>std</th>\n",
       "      <td>0.290985</td>\n",
       "      <td>0.272966</td>\n",
       "      <td>0.295953</td>\n",
       "      <td>0.293166</td>\n",
       "    </tr>\n",
       "    <tr>\n",
       "      <th>min</th>\n",
       "      <td>0.000410</td>\n",
       "      <td>0.010649</td>\n",
       "      <td>0.000575</td>\n",
       "      <td>0.002851</td>\n",
       "    </tr>\n",
       "    <tr>\n",
       "      <th>25%</th>\n",
       "      <td>0.225024</td>\n",
       "      <td>0.270928</td>\n",
       "      <td>0.243931</td>\n",
       "      <td>0.281738</td>\n",
       "    </tr>\n",
       "    <tr>\n",
       "      <th>50%</th>\n",
       "      <td>0.479164</td>\n",
       "      <td>0.510915</td>\n",
       "      <td>0.507474</td>\n",
       "      <td>0.533044</td>\n",
       "    </tr>\n",
       "    <tr>\n",
       "      <th>75%</th>\n",
       "      <td>0.755088</td>\n",
       "      <td>0.728839</td>\n",
       "      <td>0.769660</td>\n",
       "      <td>0.788106</td>\n",
       "    </tr>\n",
       "    <tr>\n",
       "      <th>max</th>\n",
       "      <td>0.998111</td>\n",
       "      <td>0.996740</td>\n",
       "      <td>0.999709</td>\n",
       "      <td>0.989946</td>\n",
       "    </tr>\n",
       "  </tbody>\n",
       "</table>\n",
       "</div>"
      ],
      "text/plain": [
       "                a           b           c           d\n",
       "count  500.000000  500.000000  500.000000  500.000000\n",
       "mean     0.485294    0.504049    0.506183    0.517390\n",
       "std      0.290985    0.272966    0.295953    0.293166\n",
       "min      0.000410    0.010649    0.000575    0.002851\n",
       "25%      0.225024    0.270928    0.243931    0.281738\n",
       "50%      0.479164    0.510915    0.507474    0.533044\n",
       "75%      0.755088    0.728839    0.769660    0.788106\n",
       "max      0.998111    0.996740    0.999709    0.989946"
      ]
     },
     "execution_count": 12,
     "metadata": {},
     "output_type": "execute_result"
    }
   ],
   "source": [
    "df3.describe()"
   ]
  },
  {
   "cell_type": "code",
   "execution_count": 13,
   "id": "c6ce9002",
   "metadata": {},
   "outputs": [
    {
     "name": "stdout",
     "output_type": "stream",
     "text": [
      "<class 'pandas.core.frame.DataFrame'>\n",
      "Index: 1000 entries, 2000-01-01 to 2002-09-26\n",
      "Data columns (total 4 columns):\n",
      " #   Column  Non-Null Count  Dtype  \n",
      "---  ------  --------------  -----  \n",
      " 0   A       1000 non-null   float64\n",
      " 1   B       1000 non-null   float64\n",
      " 2   C       1000 non-null   float64\n",
      " 3   D       1000 non-null   float64\n",
      "dtypes: float64(4)\n",
      "memory usage: 39.1+ KB\n"
     ]
    }
   ],
   "source": [
    "df1.info()"
   ]
  },
  {
   "cell_type": "code",
   "execution_count": 14,
   "id": "a7016ca4",
   "metadata": {},
   "outputs": [
    {
     "name": "stdout",
     "output_type": "stream",
     "text": [
      "<class 'pandas.core.frame.DataFrame'>\n",
      "RangeIndex: 10 entries, 0 to 9\n",
      "Data columns (total 4 columns):\n",
      " #   Column  Non-Null Count  Dtype  \n",
      "---  ------  --------------  -----  \n",
      " 0   a       10 non-null     float64\n",
      " 1   b       10 non-null     float64\n",
      " 2   c       10 non-null     float64\n",
      " 3   d       10 non-null     float64\n",
      "dtypes: float64(4)\n",
      "memory usage: 448.0 bytes\n"
     ]
    }
   ],
   "source": [
    "df2.info()"
   ]
  },
  {
   "cell_type": "code",
   "execution_count": 15,
   "id": "735715f2",
   "metadata": {},
   "outputs": [
    {
     "name": "stdout",
     "output_type": "stream",
     "text": [
      "<class 'pandas.core.frame.DataFrame'>\n",
      "RangeIndex: 500 entries, 0 to 499\n",
      "Data columns (total 4 columns):\n",
      " #   Column  Non-Null Count  Dtype  \n",
      "---  ------  --------------  -----  \n",
      " 0   a       500 non-null    float64\n",
      " 1   b       500 non-null    float64\n",
      " 2   c       500 non-null    float64\n",
      " 3   d       500 non-null    float64\n",
      "dtypes: float64(4)\n",
      "memory usage: 15.8 KB\n"
     ]
    }
   ],
   "source": [
    "df3.info()"
   ]
  },
  {
   "cell_type": "code",
   "execution_count": 16,
   "id": "eed58d68",
   "metadata": {},
   "outputs": [
    {
     "data": {
      "text/plain": [
       "Index(['A', 'B', 'C', 'D'], dtype='object')"
      ]
     },
     "execution_count": 16,
     "metadata": {},
     "output_type": "execute_result"
    }
   ],
   "source": [
    "df1.keys()"
   ]
  },
  {
   "cell_type": "code",
   "execution_count": 17,
   "id": "e033728a",
   "metadata": {},
   "outputs": [
    {
     "data": {
      "text/plain": [
       "Index(['a', 'b', 'c', 'd'], dtype='object')"
      ]
     },
     "execution_count": 17,
     "metadata": {},
     "output_type": "execute_result"
    }
   ],
   "source": [
    "df2.keys()"
   ]
  },
  {
   "cell_type": "code",
   "execution_count": 18,
   "id": "c6005f61",
   "metadata": {},
   "outputs": [
    {
     "data": {
      "text/plain": [
       "Index(['a', 'b', 'c', 'd'], dtype='object')"
      ]
     },
     "execution_count": 18,
     "metadata": {},
     "output_type": "execute_result"
    }
   ],
   "source": [
    "df3.keys()"
   ]
  },
  {
   "cell_type": "code",
   "execution_count": 19,
   "id": "78ca2312",
   "metadata": {},
   "outputs": [],
   "source": [
    "#CORRELATION ANALYSIS"
   ]
  },
  {
   "cell_type": "code",
   "execution_count": 20,
   "id": "ac129996",
   "metadata": {},
   "outputs": [
    {
     "data": {
      "text/html": [
       "<div>\n",
       "<style scoped>\n",
       "    .dataframe tbody tr th:only-of-type {\n",
       "        vertical-align: middle;\n",
       "    }\n",
       "\n",
       "    .dataframe tbody tr th {\n",
       "        vertical-align: top;\n",
       "    }\n",
       "\n",
       "    .dataframe thead th {\n",
       "        text-align: right;\n",
       "    }\n",
       "</style>\n",
       "<table border=\"1\" class=\"dataframe\">\n",
       "  <thead>\n",
       "    <tr style=\"text-align: right;\">\n",
       "      <th></th>\n",
       "      <th>A</th>\n",
       "      <th>B</th>\n",
       "      <th>C</th>\n",
       "      <th>D</th>\n",
       "    </tr>\n",
       "  </thead>\n",
       "  <tbody>\n",
       "    <tr>\n",
       "      <th>A</th>\n",
       "      <td>1.000000</td>\n",
       "      <td>0.045030</td>\n",
       "      <td>0.068727</td>\n",
       "      <td>-0.038096</td>\n",
       "    </tr>\n",
       "    <tr>\n",
       "      <th>B</th>\n",
       "      <td>0.045030</td>\n",
       "      <td>1.000000</td>\n",
       "      <td>-0.006578</td>\n",
       "      <td>0.020519</td>\n",
       "    </tr>\n",
       "    <tr>\n",
       "      <th>C</th>\n",
       "      <td>0.068727</td>\n",
       "      <td>-0.006578</td>\n",
       "      <td>1.000000</td>\n",
       "      <td>0.004522</td>\n",
       "    </tr>\n",
       "    <tr>\n",
       "      <th>D</th>\n",
       "      <td>-0.038096</td>\n",
       "      <td>0.020519</td>\n",
       "      <td>0.004522</td>\n",
       "      <td>1.000000</td>\n",
       "    </tr>\n",
       "  </tbody>\n",
       "</table>\n",
       "</div>"
      ],
      "text/plain": [
       "          A         B         C         D\n",
       "A  1.000000  0.045030  0.068727 -0.038096\n",
       "B  0.045030  1.000000 -0.006578  0.020519\n",
       "C  0.068727 -0.006578  1.000000  0.004522\n",
       "D -0.038096  0.020519  0.004522  1.000000"
      ]
     },
     "execution_count": 20,
     "metadata": {},
     "output_type": "execute_result"
    }
   ],
   "source": [
    "df1.corr()"
   ]
  },
  {
   "cell_type": "code",
   "execution_count": 21,
   "id": "5f1be35c",
   "metadata": {},
   "outputs": [
    {
     "data": {
      "text/html": [
       "<div>\n",
       "<style scoped>\n",
       "    .dataframe tbody tr th:only-of-type {\n",
       "        vertical-align: middle;\n",
       "    }\n",
       "\n",
       "    .dataframe tbody tr th {\n",
       "        vertical-align: top;\n",
       "    }\n",
       "\n",
       "    .dataframe thead th {\n",
       "        text-align: right;\n",
       "    }\n",
       "</style>\n",
       "<table border=\"1\" class=\"dataframe\">\n",
       "  <thead>\n",
       "    <tr style=\"text-align: right;\">\n",
       "      <th></th>\n",
       "      <th>a</th>\n",
       "      <th>b</th>\n",
       "      <th>c</th>\n",
       "      <th>d</th>\n",
       "    </tr>\n",
       "  </thead>\n",
       "  <tbody>\n",
       "    <tr>\n",
       "      <th>a</th>\n",
       "      <td>1.000000</td>\n",
       "      <td>-0.628027</td>\n",
       "      <td>0.048152</td>\n",
       "      <td>0.163414</td>\n",
       "    </tr>\n",
       "    <tr>\n",
       "      <th>b</th>\n",
       "      <td>-0.628027</td>\n",
       "      <td>1.000000</td>\n",
       "      <td>0.463956</td>\n",
       "      <td>-0.349609</td>\n",
       "    </tr>\n",
       "    <tr>\n",
       "      <th>c</th>\n",
       "      <td>0.048152</td>\n",
       "      <td>0.463956</td>\n",
       "      <td>1.000000</td>\n",
       "      <td>0.136634</td>\n",
       "    </tr>\n",
       "    <tr>\n",
       "      <th>d</th>\n",
       "      <td>0.163414</td>\n",
       "      <td>-0.349609</td>\n",
       "      <td>0.136634</td>\n",
       "      <td>1.000000</td>\n",
       "    </tr>\n",
       "  </tbody>\n",
       "</table>\n",
       "</div>"
      ],
      "text/plain": [
       "          a         b         c         d\n",
       "a  1.000000 -0.628027  0.048152  0.163414\n",
       "b -0.628027  1.000000  0.463956 -0.349609\n",
       "c  0.048152  0.463956  1.000000  0.136634\n",
       "d  0.163414 -0.349609  0.136634  1.000000"
      ]
     },
     "execution_count": 21,
     "metadata": {},
     "output_type": "execute_result"
    }
   ],
   "source": [
    "df2.corr()"
   ]
  },
  {
   "cell_type": "code",
   "execution_count": 22,
   "id": "29a064c2",
   "metadata": {},
   "outputs": [
    {
     "data": {
      "text/html": [
       "<div>\n",
       "<style scoped>\n",
       "    .dataframe tbody tr th:only-of-type {\n",
       "        vertical-align: middle;\n",
       "    }\n",
       "\n",
       "    .dataframe tbody tr th {\n",
       "        vertical-align: top;\n",
       "    }\n",
       "\n",
       "    .dataframe thead th {\n",
       "        text-align: right;\n",
       "    }\n",
       "</style>\n",
       "<table border=\"1\" class=\"dataframe\">\n",
       "  <thead>\n",
       "    <tr style=\"text-align: right;\">\n",
       "      <th></th>\n",
       "      <th>a</th>\n",
       "      <th>b</th>\n",
       "      <th>c</th>\n",
       "      <th>d</th>\n",
       "    </tr>\n",
       "  </thead>\n",
       "  <tbody>\n",
       "    <tr>\n",
       "      <th>a</th>\n",
       "      <td>1.000000</td>\n",
       "      <td>0.090790</td>\n",
       "      <td>-0.014839</td>\n",
       "      <td>0.037241</td>\n",
       "    </tr>\n",
       "    <tr>\n",
       "      <th>b</th>\n",
       "      <td>0.090790</td>\n",
       "      <td>1.000000</td>\n",
       "      <td>-0.100735</td>\n",
       "      <td>-0.069107</td>\n",
       "    </tr>\n",
       "    <tr>\n",
       "      <th>c</th>\n",
       "      <td>-0.014839</td>\n",
       "      <td>-0.100735</td>\n",
       "      <td>1.000000</td>\n",
       "      <td>-0.026474</td>\n",
       "    </tr>\n",
       "    <tr>\n",
       "      <th>d</th>\n",
       "      <td>0.037241</td>\n",
       "      <td>-0.069107</td>\n",
       "      <td>-0.026474</td>\n",
       "      <td>1.000000</td>\n",
       "    </tr>\n",
       "  </tbody>\n",
       "</table>\n",
       "</div>"
      ],
      "text/plain": [
       "          a         b         c         d\n",
       "a  1.000000  0.090790 -0.014839  0.037241\n",
       "b  0.090790  1.000000 -0.100735 -0.069107\n",
       "c -0.014839 -0.100735  1.000000 -0.026474\n",
       "d  0.037241 -0.069107 -0.026474  1.000000"
      ]
     },
     "execution_count": 22,
     "metadata": {},
     "output_type": "execute_result"
    }
   ],
   "source": [
    "df3.corr()"
   ]
  },
  {
   "cell_type": "code",
   "execution_count": null,
   "id": "cddde15e",
   "metadata": {},
   "outputs": [],
   "source": [
    "#successfully read and analysed"
   ]
  },
  {
   "cell_type": "code",
   "execution_count": null,
   "id": "5ca4bd34",
   "metadata": {},
   "outputs": [],
   "source": []
  },
  {
   "cell_type": "code",
   "execution_count": null,
   "id": "9994e7b9",
   "metadata": {},
   "outputs": [],
   "source": [
    "#TASK 2"
   ]
  },
  {
   "cell_type": "code",
   "execution_count": 23,
   "id": "f58228f2",
   "metadata": {},
   "outputs": [],
   "source": [
    "import pandas as pd"
   ]
  },
  {
   "cell_type": "code",
   "execution_count": 24,
   "id": "f0cef04c",
   "metadata": {},
   "outputs": [],
   "source": [
    "#reading now"
   ]
  },
  {
   "cell_type": "code",
   "execution_count": 25,
   "id": "5a5609c6",
   "metadata": {},
   "outputs": [],
   "source": [
    "df3=pd.read_csv(\"df1\",index_col=0)"
   ]
  },
  {
   "cell_type": "code",
   "execution_count": 26,
   "id": "bd7efb10",
   "metadata": {},
   "outputs": [],
   "source": [
    "#passed column 0 as index"
   ]
  },
  {
   "cell_type": "code",
   "execution_count": 27,
   "id": "d711384d",
   "metadata": {},
   "outputs": [],
   "source": [
    "#now lets draw histograms and use styles"
   ]
  },
  {
   "cell_type": "code",
   "execution_count": 41,
   "id": "6201f850",
   "metadata": {},
   "outputs": [
    {
     "data": {
      "text/plain": [
       "<AxesSubplot:>"
      ]
     },
     "execution_count": 41,
     "metadata": {},
     "output_type": "execute_result"
    },
    {
     "data": {
      "image/png": "[encoded data removed]",
      "text/plain": [
       "<Figure size 432x288 with 1 Axes>"
      ]
     },
     "metadata": {},
     "output_type": "display_data"
    }
   ],
   "source": [
    "df1[\"B\"].hist()"
   ]
  },
  {
   "cell_type": "code",
   "execution_count": 30,
   "id": "40de4add",
   "metadata": {},
   "outputs": [],
   "source": [
    "#using style"
   ]
  },
  {
   "cell_type": "code",
   "execution_count": 31,
   "id": "6572af65",
   "metadata": {},
   "outputs": [],
   "source": [
    "import matplotlib.pyplot as plt"
   ]
  },
  {
   "cell_type": "code",
   "execution_count": 40,
   "id": "4d2ee03b",
   "metadata": {},
   "outputs": [],
   "source": [
    "plt.style.use(\"ggplot\")"
   ]
  },
  {
   "cell_type": "code",
   "execution_count": 42,
   "id": "0ee734a3",
   "metadata": {},
   "outputs": [],
   "source": [
    "#my personal favourite------->ggplot\n"
   ]
  },
  {
   "cell_type": "code",
   "execution_count": null,
   "id": "bdd4cd94",
   "metadata": {},
   "outputs": [],
   "source": []
  },
  {
   "cell_type": "code",
   "execution_count": 52,
   "id": "8d7ce711",
   "metadata": {},
   "outputs": [],
   "source": [
    "#TASK 3"
   ]
  },
  {
   "cell_type": "code",
   "execution_count": 53,
   "id": "28111286",
   "metadata": {},
   "outputs": [],
   "source": [
    "import pandas as pd"
   ]
  },
  {
   "cell_type": "code",
   "execution_count": 54,
   "id": "6d851bb9",
   "metadata": {},
   "outputs": [],
   "source": [
    "df3=pd.read_csv(\"df3\")"
   ]
  },
  {
   "cell_type": "code",
   "execution_count": 55,
   "id": "d34a1d33",
   "metadata": {},
   "outputs": [
    {
     "data": {
      "text/html": [
       "<div>\n",
       "<style scoped>\n",
       "    .dataframe tbody tr th:only-of-type {\n",
       "        vertical-align: middle;\n",
       "    }\n",
       "\n",
       "    .dataframe tbody tr th {\n",
       "        vertical-align: top;\n",
       "    }\n",
       "\n",
       "    .dataframe thead th {\n",
       "        text-align: right;\n",
       "    }\n",
       "</style>\n",
       "<table border=\"1\" class=\"dataframe\">\n",
       "  <thead>\n",
       "    <tr style=\"text-align: right;\">\n",
       "      <th></th>\n",
       "      <th>a</th>\n",
       "      <th>b</th>\n",
       "      <th>c</th>\n",
       "      <th>d</th>\n",
       "    </tr>\n",
       "  </thead>\n",
       "  <tbody>\n",
       "    <tr>\n",
       "      <th>0</th>\n",
       "      <td>0.336272</td>\n",
       "      <td>0.325011</td>\n",
       "      <td>0.001020</td>\n",
       "      <td>0.401402</td>\n",
       "    </tr>\n",
       "    <tr>\n",
       "      <th>1</th>\n",
       "      <td>0.980265</td>\n",
       "      <td>0.831835</td>\n",
       "      <td>0.772288</td>\n",
       "      <td>0.076485</td>\n",
       "    </tr>\n",
       "    <tr>\n",
       "      <th>2</th>\n",
       "      <td>0.480387</td>\n",
       "      <td>0.686839</td>\n",
       "      <td>0.000575</td>\n",
       "      <td>0.746758</td>\n",
       "    </tr>\n",
       "    <tr>\n",
       "      <th>3</th>\n",
       "      <td>0.502106</td>\n",
       "      <td>0.305142</td>\n",
       "      <td>0.768608</td>\n",
       "      <td>0.654685</td>\n",
       "    </tr>\n",
       "    <tr>\n",
       "      <th>4</th>\n",
       "      <td>0.856602</td>\n",
       "      <td>0.171448</td>\n",
       "      <td>0.157971</td>\n",
       "      <td>0.321231</td>\n",
       "    </tr>\n",
       "  </tbody>\n",
       "</table>\n",
       "</div>"
      ],
      "text/plain": [
       "          a         b         c         d\n",
       "0  0.336272  0.325011  0.001020  0.401402\n",
       "1  0.980265  0.831835  0.772288  0.076485\n",
       "2  0.480387  0.686839  0.000575  0.746758\n",
       "3  0.502106  0.305142  0.768608  0.654685\n",
       "4  0.856602  0.171448  0.157971  0.321231"
      ]
     },
     "execution_count": 55,
     "metadata": {},
     "output_type": "execute_result"
    }
   ],
   "source": [
    "df3.head()"
   ]
  },
  {
   "cell_type": "code",
   "execution_count": 56,
   "id": "c8063e38",
   "metadata": {},
   "outputs": [],
   "source": [
    "#SCATTERPLOT"
   ]
  },
  {
   "cell_type": "code",
   "execution_count": 57,
   "id": "1f932e2f",
   "metadata": {},
   "outputs": [
    {
     "data": {
      "text/plain": [
       "<AxesSubplot:xlabel='a', ylabel='b'>"
      ]
     },
     "execution_count": 57,
     "metadata": {},
     "output_type": "execute_result"
    },
    {
     "data": {
      "image/png": "[encoded data removed]",
      "text/plain": [
       "<Figure size 864x216 with 1 Axes>"
      ]
     },
     "metadata": {},
     "output_type": "display_data"
    }
   ],
   "source": [
    "df3.plot.scatter(x=\"a\",y=\"b\",s=50,figsize=(12,3))"
   ]
  },
  {
   "cell_type": "code",
   "execution_count": null,
   "id": "a27943b0",
   "metadata": {},
   "outputs": [],
   "source": [
    "#this is the resultant plot"
   ]
  },
  {
   "cell_type": "code",
   "execution_count": null,
   "id": "ba383e9f",
   "metadata": {},
   "outputs": [],
   "source": [
    "#lets change the color"
   ]
  },
  {
   "cell_type": "code",
   "execution_count": 58,
   "id": "0ba5b067",
   "metadata": {},
   "outputs": [
    {
     "data": {
      "text/plain": [
       "<AxesSubplot:xlabel='a', ylabel='b'>"
      ]
     },
     "execution_count": 58,
     "metadata": {},
     "output_type": "execute_result"
    },
    {
     "data": {
      "image/png": "[encoded data removed]",
      "text/plain": [
       "<Figure size 864x216 with 1 Axes>"
      ]
     },
     "metadata": {},
     "output_type": "display_data"
    }
   ],
   "source": [
    "df3.plot.scatter(x=\"a\",y=\"b\",c='red',s=50,figsize=(12,3))"
   ]
  },
  {
   "cell_type": "code",
   "execution_count": 59,
   "id": "7663ba77",
   "metadata": {},
   "outputs": [],
   "source": [
    "#moving onto a histogram"
   ]
  },
  {
   "cell_type": "code",
   "execution_count": 60,
   "id": "1145ad07",
   "metadata": {},
   "outputs": [
    {
     "data": {
      "text/plain": [
       "<AxesSubplot:ylabel='Frequency'>"
      ]
     },
     "execution_count": 60,
     "metadata": {},
     "output_type": "execute_result"
    },
    {
     "data": {
      "image/png": "[encoded data removed]",
      "text/plain": [
       "<Figure size 432x288 with 1 Axes>"
      ]
     },
     "metadata": {},
     "output_type": "display_data"
    }
   ],
   "source": [
    "df3[\"a\"].plot.hist()"
   ]
  },
  {
   "cell_type": "code",
   "execution_count": 61,
   "id": "00645e73",
   "metadata": {},
   "outputs": [],
   "source": [
    "#style is ggplot"
   ]
  },
  {
   "cell_type": "code",
   "execution_count": 62,
   "id": "12d51737",
   "metadata": {},
   "outputs": [
    {
     "data": {
      "text/plain": [
       "<AxesSubplot:ylabel='Frequency'>"
      ]
     },
     "execution_count": 62,
     "metadata": {},
     "output_type": "execute_result"
    },
    {
     "data": {
      "image/png": "[encoded data removed]",
      "text/plain": [
       "<Figure size 432x288 with 1 Axes>"
      ]
     },
     "metadata": {},
     "output_type": "display_data"
    }
   ],
   "source": [
    "df3[\"a\"].plot.hist(alpha=0.5,bins=25)"
   ]
  },
  {
   "cell_type": "code",
   "execution_count": 64,
   "id": "fd0b2b13",
   "metadata": {},
   "outputs": [],
   "source": [
    "#thats all for task 3"
   ]
  },
  {
   "cell_type": "code",
   "execution_count": null,
   "id": "f2e42a8c",
   "metadata": {},
   "outputs": [],
   "source": []
  },
  {
   "cell_type": "code",
   "execution_count": 65,
   "id": "0e77f232",
   "metadata": {},
   "outputs": [],
   "source": [
    "#TASK 4"
   ]
  },
  {
   "cell_type": "code",
   "execution_count": 66,
   "id": "aee27d66",
   "metadata": {},
   "outputs": [],
   "source": [
    "#DRAW A BOXPLOT----> COMPARE COLUMNS a and b"
   ]
  },
  {
   "cell_type": "code",
   "execution_count": 67,
   "id": "c3128e22",
   "metadata": {},
   "outputs": [],
   "source": [
    "import pandas as pd"
   ]
  },
  {
   "cell_type": "code",
   "execution_count": null,
   "id": "22b392f9",
   "metadata": {},
   "outputs": [],
   "source": [
    "#reading the dataframe first\n"
   ]
  },
  {
   "cell_type": "code",
   "execution_count": 68,
   "id": "dc2d254b",
   "metadata": {},
   "outputs": [],
   "source": [
    "df3=pd.read_csv(\"df3\")"
   ]
  },
  {
   "cell_type": "code",
   "execution_count": 69,
   "id": "e3b463d2",
   "metadata": {},
   "outputs": [
    {
     "data": {
      "text/html": [
       "<div>\n",
       "<style scoped>\n",
       "    .dataframe tbody tr th:only-of-type {\n",
       "        vertical-align: middle;\n",
       "    }\n",
       "\n",
       "    .dataframe tbody tr th {\n",
       "        vertical-align: top;\n",
       "    }\n",
       "\n",
       "    .dataframe thead th {\n",
       "        text-align: right;\n",
       "    }\n",
       "</style>\n",
       "<table border=\"1\" class=\"dataframe\">\n",
       "  <thead>\n",
       "    <tr style=\"text-align: right;\">\n",
       "      <th></th>\n",
       "      <th>a</th>\n",
       "      <th>b</th>\n",
       "      <th>c</th>\n",
       "      <th>d</th>\n",
       "    </tr>\n",
       "  </thead>\n",
       "  <tbody>\n",
       "    <tr>\n",
       "      <th>0</th>\n",
       "      <td>0.336272</td>\n",
       "      <td>0.325011</td>\n",
       "      <td>0.001020</td>\n",
       "      <td>0.401402</td>\n",
       "    </tr>\n",
       "    <tr>\n",
       "      <th>1</th>\n",
       "      <td>0.980265</td>\n",
       "      <td>0.831835</td>\n",
       "      <td>0.772288</td>\n",
       "      <td>0.076485</td>\n",
       "    </tr>\n",
       "    <tr>\n",
       "      <th>2</th>\n",
       "      <td>0.480387</td>\n",
       "      <td>0.686839</td>\n",
       "      <td>0.000575</td>\n",
       "      <td>0.746758</td>\n",
       "    </tr>\n",
       "    <tr>\n",
       "      <th>3</th>\n",
       "      <td>0.502106</td>\n",
       "      <td>0.305142</td>\n",
       "      <td>0.768608</td>\n",
       "      <td>0.654685</td>\n",
       "    </tr>\n",
       "    <tr>\n",
       "      <th>4</th>\n",
       "      <td>0.856602</td>\n",
       "      <td>0.171448</td>\n",
       "      <td>0.157971</td>\n",
       "      <td>0.321231</td>\n",
       "    </tr>\n",
       "    <tr>\n",
       "      <th>...</th>\n",
       "      <td>...</td>\n",
       "      <td>...</td>\n",
       "      <td>...</td>\n",
       "      <td>...</td>\n",
       "    </tr>\n",
       "    <tr>\n",
       "      <th>495</th>\n",
       "      <td>0.528705</td>\n",
       "      <td>0.226122</td>\n",
       "      <td>0.055835</td>\n",
       "      <td>0.131962</td>\n",
       "    </tr>\n",
       "    <tr>\n",
       "      <th>496</th>\n",
       "      <td>0.324730</td>\n",
       "      <td>0.215201</td>\n",
       "      <td>0.935302</td>\n",
       "      <td>0.794115</td>\n",
       "    </tr>\n",
       "    <tr>\n",
       "      <th>497</th>\n",
       "      <td>0.118036</td>\n",
       "      <td>0.264574</td>\n",
       "      <td>0.629206</td>\n",
       "      <td>0.824062</td>\n",
       "    </tr>\n",
       "    <tr>\n",
       "      <th>498</th>\n",
       "      <td>0.227021</td>\n",
       "      <td>0.660209</td>\n",
       "      <td>0.851353</td>\n",
       "      <td>0.478676</td>\n",
       "    </tr>\n",
       "    <tr>\n",
       "      <th>499</th>\n",
       "      <td>0.466157</td>\n",
       "      <td>0.753000</td>\n",
       "      <td>0.115391</td>\n",
       "      <td>0.279712</td>\n",
       "    </tr>\n",
       "  </tbody>\n",
       "</table>\n",
       "<p>500 rows × 4 columns</p>\n",
       "</div>"
      ],
      "text/plain": [
       "            a         b         c         d\n",
       "0    0.336272  0.325011  0.001020  0.401402\n",
       "1    0.980265  0.831835  0.772288  0.076485\n",
       "2    0.480387  0.686839  0.000575  0.746758\n",
       "3    0.502106  0.305142  0.768608  0.654685\n",
       "4    0.856602  0.171448  0.157971  0.321231\n",
       "..        ...       ...       ...       ...\n",
       "495  0.528705  0.226122  0.055835  0.131962\n",
       "496  0.324730  0.215201  0.935302  0.794115\n",
       "497  0.118036  0.264574  0.629206  0.824062\n",
       "498  0.227021  0.660209  0.851353  0.478676\n",
       "499  0.466157  0.753000  0.115391  0.279712\n",
       "\n",
       "[500 rows x 4 columns]"
      ]
     },
     "execution_count": 69,
     "metadata": {},
     "output_type": "execute_result"
    }
   ],
   "source": [
    "df3"
   ]
  },
  {
   "cell_type": "code",
   "execution_count": 70,
   "id": "1f8a5e53",
   "metadata": {},
   "outputs": [],
   "source": [
    "#this is the dataframe"
   ]
  },
  {
   "cell_type": "code",
   "execution_count": 71,
   "id": "1b7af73c",
   "metadata": {},
   "outputs": [],
   "source": [
    "#BOXPLOT"
   ]
  },
  {
   "cell_type": "code",
   "execution_count": 72,
   "id": "9f1dfd13",
   "metadata": {},
   "outputs": [
    {
     "data": {
      "text/plain": [
       "<AxesSubplot:>"
      ]
     },
     "execution_count": 72,
     "metadata": {},
     "output_type": "execute_result"
    },
    {
     "data": {
      "image/png": "[encoded data removed]",
      "text/plain": [
       "<Figure size 432x288 with 1 Axes>"
      ]
     },
     "metadata": {},
     "output_type": "display_data"
    }
   ],
   "source": [
    "df3[[\"a\",\"b\"]].plot.box()"
   ]
  },
  {
   "cell_type": "code",
   "execution_count": 73,
   "id": "d7e63014",
   "metadata": {},
   "outputs": [],
   "source": [
    "#the quartile distribution of columns a and b is different as shown\n"
   ]
  },
  {
   "cell_type": "code",
   "execution_count": 74,
   "id": "a4cb484a",
   "metadata": {},
   "outputs": [],
   "source": [
    "#KDE PLOT "
   ]
  },
  {
   "cell_type": "code",
   "execution_count": 75,
   "id": "9261ff39",
   "metadata": {},
   "outputs": [],
   "source": [
    "#TARGET COLUMN----->d"
   ]
  },
  {
   "cell_type": "code",
   "execution_count": 76,
   "id": "a82d2a55",
   "metadata": {},
   "outputs": [
    {
     "data": {
      "text/plain": [
       "<AxesSubplot:ylabel='Density'>"
      ]
     },
     "execution_count": 76,
     "metadata": {},
     "output_type": "execute_result"
    },
    {
     "data": {
      "image/png": "[encoded data removed]",
      "text/plain": [
       "<Figure size 432x288 with 1 Axes>"
      ]
     },
     "metadata": {},
     "output_type": "display_data"
    }
   ],
   "source": [
    "df3[\"d\"].plot.kde()"
   ]
  },
  {
   "cell_type": "code",
   "execution_count": 77,
   "id": "3a94b926",
   "metadata": {},
   "outputs": [],
   "source": [
    "#the kde plot"
   ]
  },
  {
   "cell_type": "code",
   "execution_count": 78,
   "id": "36e1a45e",
   "metadata": {},
   "outputs": [],
   "source": [
    "#TASK 4 COMPLETED"
   ]
  },
  {
   "cell_type": "code",
   "execution_count": 79,
   "id": "90e6b7ff",
   "metadata": {},
   "outputs": [],
   "source": [
    "#TASK 5"
   ]
  },
  {
   "cell_type": "code",
   "execution_count": 80,
   "id": "b779fd2f",
   "metadata": {},
   "outputs": [],
   "source": [
    "#READING THE DATAFRAME"
   ]
  },
  {
   "cell_type": "code",
   "execution_count": 81,
   "id": "9cae64da",
   "metadata": {},
   "outputs": [],
   "source": [
    "import pandas as pd"
   ]
  },
  {
   "cell_type": "code",
   "execution_count": 82,
   "id": "a2ca43d7",
   "metadata": {},
   "outputs": [],
   "source": [
    "df3=pd.read_csv(\"df3\")"
   ]
  },
  {
   "cell_type": "code",
   "execution_count": 83,
   "id": "80ba071e",
   "metadata": {},
   "outputs": [
    {
     "data": {
      "text/html": [
       "<div>\n",
       "<style scoped>\n",
       "    .dataframe tbody tr th:only-of-type {\n",
       "        vertical-align: middle;\n",
       "    }\n",
       "\n",
       "    .dataframe tbody tr th {\n",
       "        vertical-align: top;\n",
       "    }\n",
       "\n",
       "    .dataframe thead th {\n",
       "        text-align: right;\n",
       "    }\n",
       "</style>\n",
       "<table border=\"1\" class=\"dataframe\">\n",
       "  <thead>\n",
       "    <tr style=\"text-align: right;\">\n",
       "      <th></th>\n",
       "      <th>a</th>\n",
       "      <th>b</th>\n",
       "      <th>c</th>\n",
       "      <th>d</th>\n",
       "    </tr>\n",
       "  </thead>\n",
       "  <tbody>\n",
       "    <tr>\n",
       "      <th>0</th>\n",
       "      <td>0.336272</td>\n",
       "      <td>0.325011</td>\n",
       "      <td>0.001020</td>\n",
       "      <td>0.401402</td>\n",
       "    </tr>\n",
       "    <tr>\n",
       "      <th>1</th>\n",
       "      <td>0.980265</td>\n",
       "      <td>0.831835</td>\n",
       "      <td>0.772288</td>\n",
       "      <td>0.076485</td>\n",
       "    </tr>\n",
       "    <tr>\n",
       "      <th>2</th>\n",
       "      <td>0.480387</td>\n",
       "      <td>0.686839</td>\n",
       "      <td>0.000575</td>\n",
       "      <td>0.746758</td>\n",
       "    </tr>\n",
       "    <tr>\n",
       "      <th>3</th>\n",
       "      <td>0.502106</td>\n",
       "      <td>0.305142</td>\n",
       "      <td>0.768608</td>\n",
       "      <td>0.654685</td>\n",
       "    </tr>\n",
       "    <tr>\n",
       "      <th>4</th>\n",
       "      <td>0.856602</td>\n",
       "      <td>0.171448</td>\n",
       "      <td>0.157971</td>\n",
       "      <td>0.321231</td>\n",
       "    </tr>\n",
       "    <tr>\n",
       "      <th>...</th>\n",
       "      <td>...</td>\n",
       "      <td>...</td>\n",
       "      <td>...</td>\n",
       "      <td>...</td>\n",
       "    </tr>\n",
       "    <tr>\n",
       "      <th>495</th>\n",
       "      <td>0.528705</td>\n",
       "      <td>0.226122</td>\n",
       "      <td>0.055835</td>\n",
       "      <td>0.131962</td>\n",
       "    </tr>\n",
       "    <tr>\n",
       "      <th>496</th>\n",
       "      <td>0.324730</td>\n",
       "      <td>0.215201</td>\n",
       "      <td>0.935302</td>\n",
       "      <td>0.794115</td>\n",
       "    </tr>\n",
       "    <tr>\n",
       "      <th>497</th>\n",
       "      <td>0.118036</td>\n",
       "      <td>0.264574</td>\n",
       "      <td>0.629206</td>\n",
       "      <td>0.824062</td>\n",
       "    </tr>\n",
       "    <tr>\n",
       "      <th>498</th>\n",
       "      <td>0.227021</td>\n",
       "      <td>0.660209</td>\n",
       "      <td>0.851353</td>\n",
       "      <td>0.478676</td>\n",
       "    </tr>\n",
       "    <tr>\n",
       "      <th>499</th>\n",
       "      <td>0.466157</td>\n",
       "      <td>0.753000</td>\n",
       "      <td>0.115391</td>\n",
       "      <td>0.279712</td>\n",
       "    </tr>\n",
       "  </tbody>\n",
       "</table>\n",
       "<p>500 rows × 4 columns</p>\n",
       "</div>"
      ],
      "text/plain": [
       "            a         b         c         d\n",
       "0    0.336272  0.325011  0.001020  0.401402\n",
       "1    0.980265  0.831835  0.772288  0.076485\n",
       "2    0.480387  0.686839  0.000575  0.746758\n",
       "3    0.502106  0.305142  0.768608  0.654685\n",
       "4    0.856602  0.171448  0.157971  0.321231\n",
       "..        ...       ...       ...       ...\n",
       "495  0.528705  0.226122  0.055835  0.131962\n",
       "496  0.324730  0.215201  0.935302  0.794115\n",
       "497  0.118036  0.264574  0.629206  0.824062\n",
       "498  0.227021  0.660209  0.851353  0.478676\n",
       "499  0.466157  0.753000  0.115391  0.279712\n",
       "\n",
       "[500 rows x 4 columns]"
      ]
     },
     "execution_count": 83,
     "metadata": {},
     "output_type": "execute_result"
    }
   ],
   "source": [
    "df3"
   ]
  },
  {
   "cell_type": "code",
   "execution_count": 84,
   "id": "63d0304f",
   "metadata": {},
   "outputs": [],
   "source": [
    "#draw a density plot"
   ]
  },
  {
   "cell_type": "code",
   "execution_count": 85,
   "id": "e206b564",
   "metadata": {},
   "outputs": [
    {
     "data": {
      "text/plain": [
       "<AxesSubplot:ylabel='Density'>"
      ]
     },
     "execution_count": 85,
     "metadata": {},
     "output_type": "execute_result"
    },
    {
     "data": {
      "image/png": "[encoded data removed]",
      "text/plain": [
       "<Figure size 432x288 with 1 Axes>"
      ]
     },
     "metadata": {},
     "output_type": "display_data"
    }
   ],
   "source": [
    "df3.plot.density()"
   ]
  },
  {
   "cell_type": "code",
   "execution_count": 86,
   "id": "5c066f81",
   "metadata": {},
   "outputs": [],
   "source": [
    "#this is the densityplot for all columns"
   ]
  },
  {
   "cell_type": "code",
   "execution_count": 87,
   "id": "8f8ac419",
   "metadata": {},
   "outputs": [],
   "source": [
    "#density plot for 1 column"
   ]
  },
  {
   "cell_type": "code",
   "execution_count": 89,
   "id": "2baad1a6",
   "metadata": {},
   "outputs": [
    {
     "data": {
      "text/plain": [
       "<AxesSubplot:ylabel='Density'>"
      ]
     },
     "execution_count": 89,
     "metadata": {},
     "output_type": "execute_result"
    },
    {
     "data": {
      "image/png": "[encoded data removed]",
      "text/plain": [
       "<Figure size 432x288 with 1 Axes>"
      ]
     },
     "metadata": {},
     "output_type": "display_data"
    }
   ],
   "source": [
    "df3[\"a\"].plot.density()"
   ]
  },
  {
   "cell_type": "code",
   "execution_count": 90,
   "id": "8be6734d",
   "metadata": {},
   "outputs": [
    {
     "data": {
      "text/plain": [
       "<AxesSubplot:ylabel='Density'>"
      ]
     },
     "execution_count": 90,
     "metadata": {},
     "output_type": "execute_result"
    },
    {
     "data": {
      "image/png": "[encoded data removed]",
      "text/plain": [
       "<Figure size 432x288 with 1 Axes>"
      ]
     },
     "metadata": {},
     "output_type": "display_data"
    }
   ],
   "source": [
    "df3[\"a\"].plot.kde()"
   ]
  },
  {
   "cell_type": "code",
   "execution_count": 91,
   "id": "aefe3aa6",
   "metadata": {},
   "outputs": [],
   "source": [
    "#same\n"
   ]
  },
  {
   "cell_type": "code",
   "execution_count": 92,
   "id": "674bb4a0",
   "metadata": {},
   "outputs": [],
   "source": [
    "#figure out how to change linewidth and linestyle"
   ]
  },
  {
   "cell_type": "code",
   "execution_count": 93,
   "id": "87727971",
   "metadata": {},
   "outputs": [
    {
     "data": {
      "text/plain": [
       "<AxesSubplot:ylabel='Density'>"
      ]
     },
     "execution_count": 93,
     "metadata": {},
     "output_type": "execute_result"
    },
    {
     "data": {
      "image/png": "[encoded data removed]",
      "text/plain": [
       "<Figure size 432x288 with 1 Axes>"
      ]
     },
     "metadata": {},
     "output_type": "display_data"
    }
   ],
   "source": [
    "df3.plot.density(lw=5,ls='--')"
   ]
  },
  {
   "cell_type": "code",
   "execution_count": 94,
   "id": "b44d41f6",
   "metadata": {},
   "outputs": [],
   "source": [
    "#only for 1 column"
   ]
  },
  {
   "cell_type": "code",
   "execution_count": 95,
   "id": "9e9a4c66",
   "metadata": {},
   "outputs": [
    {
     "data": {
      "text/plain": [
       "<AxesSubplot:ylabel='Density'>"
      ]
     },
     "execution_count": 95,
     "metadata": {},
     "output_type": "execute_result"
    },
    {
     "data": {
      "image/png": "[encoded data removed]",
      "text/plain": [
       "<Figure size 432x288 with 1 Axes>"
      ]
     },
     "metadata": {},
     "output_type": "display_data"
    }
   ],
   "source": [
    "df3['a'].plot.density(lw=5,ls='--')"
   ]
  },
  {
   "cell_type": "code",
   "execution_count": 96,
   "id": "f0436f41",
   "metadata": {},
   "outputs": [],
   "source": [
    "#end of task 5"
   ]
  },
  {
   "cell_type": "code",
   "execution_count": null,
   "id": "58b20884",
   "metadata": {},
   "outputs": [],
   "source": []
  },
  {
   "cell_type": "code",
   "execution_count": null,
   "id": "fde908be",
   "metadata": {},
   "outputs": [],
   "source": []
  },
  {
   "cell_type": "code",
   "execution_count": 97,
   "id": "6d60244d",
   "metadata": {},
   "outputs": [],
   "source": [
    "#TASK 6"
   ]
  },
  {
   "cell_type": "code",
   "execution_count": 98,
   "id": "e3efbb77",
   "metadata": {},
   "outputs": [],
   "source": [
    "import pandas as pd"
   ]
  },
  {
   "cell_type": "code",
   "execution_count": 99,
   "id": "e3c55609",
   "metadata": {},
   "outputs": [],
   "source": [
    "#reading the dataframe"
   ]
  },
  {
   "cell_type": "code",
   "execution_count": 100,
   "id": "71d679ee",
   "metadata": {},
   "outputs": [],
   "source": [
    "df3=pd.read_csv(\"df3\")"
   ]
  },
  {
   "cell_type": "code",
   "execution_count": 101,
   "id": "4c252d70",
   "metadata": {},
   "outputs": [
    {
     "data": {
      "text/html": [
       "<div>\n",
       "<style scoped>\n",
       "    .dataframe tbody tr th:only-of-type {\n",
       "        vertical-align: middle;\n",
       "    }\n",
       "\n",
       "    .dataframe tbody tr th {\n",
       "        vertical-align: top;\n",
       "    }\n",
       "\n",
       "    .dataframe thead th {\n",
       "        text-align: right;\n",
       "    }\n",
       "</style>\n",
       "<table border=\"1\" class=\"dataframe\">\n",
       "  <thead>\n",
       "    <tr style=\"text-align: right;\">\n",
       "      <th></th>\n",
       "      <th>a</th>\n",
       "      <th>b</th>\n",
       "      <th>c</th>\n",
       "      <th>d</th>\n",
       "    </tr>\n",
       "  </thead>\n",
       "  <tbody>\n",
       "    <tr>\n",
       "      <th>0</th>\n",
       "      <td>0.336272</td>\n",
       "      <td>0.325011</td>\n",
       "      <td>0.001020</td>\n",
       "      <td>0.401402</td>\n",
       "    </tr>\n",
       "    <tr>\n",
       "      <th>1</th>\n",
       "      <td>0.980265</td>\n",
       "      <td>0.831835</td>\n",
       "      <td>0.772288</td>\n",
       "      <td>0.076485</td>\n",
       "    </tr>\n",
       "    <tr>\n",
       "      <th>2</th>\n",
       "      <td>0.480387</td>\n",
       "      <td>0.686839</td>\n",
       "      <td>0.000575</td>\n",
       "      <td>0.746758</td>\n",
       "    </tr>\n",
       "    <tr>\n",
       "      <th>3</th>\n",
       "      <td>0.502106</td>\n",
       "      <td>0.305142</td>\n",
       "      <td>0.768608</td>\n",
       "      <td>0.654685</td>\n",
       "    </tr>\n",
       "    <tr>\n",
       "      <th>4</th>\n",
       "      <td>0.856602</td>\n",
       "      <td>0.171448</td>\n",
       "      <td>0.157971</td>\n",
       "      <td>0.321231</td>\n",
       "    </tr>\n",
       "    <tr>\n",
       "      <th>...</th>\n",
       "      <td>...</td>\n",
       "      <td>...</td>\n",
       "      <td>...</td>\n",
       "      <td>...</td>\n",
       "    </tr>\n",
       "    <tr>\n",
       "      <th>495</th>\n",
       "      <td>0.528705</td>\n",
       "      <td>0.226122</td>\n",
       "      <td>0.055835</td>\n",
       "      <td>0.131962</td>\n",
       "    </tr>\n",
       "    <tr>\n",
       "      <th>496</th>\n",
       "      <td>0.324730</td>\n",
       "      <td>0.215201</td>\n",
       "      <td>0.935302</td>\n",
       "      <td>0.794115</td>\n",
       "    </tr>\n",
       "    <tr>\n",
       "      <th>497</th>\n",
       "      <td>0.118036</td>\n",
       "      <td>0.264574</td>\n",
       "      <td>0.629206</td>\n",
       "      <td>0.824062</td>\n",
       "    </tr>\n",
       "    <tr>\n",
       "      <th>498</th>\n",
       "      <td>0.227021</td>\n",
       "      <td>0.660209</td>\n",
       "      <td>0.851353</td>\n",
       "      <td>0.478676</td>\n",
       "    </tr>\n",
       "    <tr>\n",
       "      <th>499</th>\n",
       "      <td>0.466157</td>\n",
       "      <td>0.753000</td>\n",
       "      <td>0.115391</td>\n",
       "      <td>0.279712</td>\n",
       "    </tr>\n",
       "  </tbody>\n",
       "</table>\n",
       "<p>500 rows × 4 columns</p>\n",
       "</div>"
      ],
      "text/plain": [
       "            a         b         c         d\n",
       "0    0.336272  0.325011  0.001020  0.401402\n",
       "1    0.980265  0.831835  0.772288  0.076485\n",
       "2    0.480387  0.686839  0.000575  0.746758\n",
       "3    0.502106  0.305142  0.768608  0.654685\n",
       "4    0.856602  0.171448  0.157971  0.321231\n",
       "..        ...       ...       ...       ...\n",
       "495  0.528705  0.226122  0.055835  0.131962\n",
       "496  0.324730  0.215201  0.935302  0.794115\n",
       "497  0.118036  0.264574  0.629206  0.824062\n",
       "498  0.227021  0.660209  0.851353  0.478676\n",
       "499  0.466157  0.753000  0.115391  0.279712\n",
       "\n",
       "[500 rows x 4 columns]"
      ]
     },
     "execution_count": 101,
     "metadata": {},
     "output_type": "execute_result"
    }
   ],
   "source": [
    "df3"
   ]
  },
  {
   "cell_type": "code",
   "execution_count": 102,
   "id": "ad5b47cd",
   "metadata": {},
   "outputs": [],
   "source": [
    "#the dataframe"
   ]
  },
  {
   "cell_type": "code",
   "execution_count": 103,
   "id": "735c9e6e",
   "metadata": {},
   "outputs": [],
   "source": [
    "#areaplot "
   ]
  },
  {
   "cell_type": "code",
   "execution_count": 104,
   "id": "35fc4a87",
   "metadata": {},
   "outputs": [
    {
     "data": {
      "text/plain": [
       "<AxesSubplot:>"
      ]
     },
     "execution_count": 104,
     "metadata": {},
     "output_type": "execute_result"
    },
    {
     "data": {
      "image/png": "[encoded data removed]",
      "text/plain": [
       "<Figure size 432x288 with 1 Axes>"
      ]
     },
     "metadata": {},
     "output_type": "display_data"
    }
   ],
   "source": [
    "df3.plot.area()"
   ]
  },
  {
   "cell_type": "code",
   "execution_count": 105,
   "id": "0f489e10",
   "metadata": {},
   "outputs": [],
   "source": [
    "#now personalization"
   ]
  },
  {
   "cell_type": "code",
   "execution_count": 106,
   "id": "b8e460a4",
   "metadata": {},
   "outputs": [],
   "source": [
    "#areaplot only for first 30 rows"
   ]
  },
  {
   "cell_type": "code",
   "execution_count": 107,
   "id": "d2f2f857",
   "metadata": {},
   "outputs": [],
   "source": [
    "#use of .ix/.iloc"
   ]
  },
  {
   "cell_type": "code",
   "execution_count": 109,
   "id": "9ea44e30",
   "metadata": {},
   "outputs": [
    {
     "data": {
      "text/plain": [
       "<AxesSubplot:>"
      ]
     },
     "execution_count": 109,
     "metadata": {},
     "output_type": "execute_result"
    },
    {
     "data": {
      "image/png": "[encoded data removed]",
      "text/plain": [
       "<Figure size 432x288 with 1 Axes>"
      ]
     },
     "metadata": {},
     "output_type": "display_data"
    }
   ],
   "source": [
    "df3.iloc[0:30].plot.area()"
   ]
  },
  {
   "cell_type": "code",
   "execution_count": 110,
   "id": "122c572c",
   "metadata": {},
   "outputs": [],
   "source": [
    "#changing alpha value"
   ]
  },
  {
   "cell_type": "code",
   "execution_count": 111,
   "id": "9657a8b1",
   "metadata": {},
   "outputs": [
    {
     "data": {
      "text/plain": [
       "<AxesSubplot:>"
      ]
     },
     "execution_count": 111,
     "metadata": {},
     "output_type": "execute_result"
    },
    {
     "data": {
      "image/png": "[encoded data removed]",
      "text/plain": [
       "<Figure size 432x288 with 1 Axes>"
      ]
     },
     "metadata": {},
     "output_type": "display_data"
    }
   ],
   "source": [
    "df3.iloc[0:30].plot.area(alpha=0.4)"
   ]
  },
  {
   "cell_type": "code",
   "execution_count": 112,
   "id": "e1195b6c",
   "metadata": {},
   "outputs": [],
   "source": [
    "#display the legend outside box"
   ]
  },
  {
   "cell_type": "code",
   "execution_count": 113,
   "id": "08f88686",
   "metadata": {},
   "outputs": [
    {
     "data": {
      "text/plain": [
       "<Figure size 432x288 with 0 Axes>"
      ]
     },
     "metadata": {},
     "output_type": "display_data"
    }
   ],
   "source": [
    "f=plt.figure()"
   ]
  },
  {
   "cell_type": "code",
   "execution_count": 114,
   "id": "468e55e0",
   "metadata": {},
   "outputs": [
    {
     "data": {
      "text/plain": [
       "<AxesSubplot:>"
      ]
     },
     "execution_count": 114,
     "metadata": {},
     "output_type": "execute_result"
    }
   ],
   "source": [
    "df3.iloc[0:30].plot.area(alpha=0.4,ax=f.gca())"
   ]
  },
  {
   "cell_type": "code",
   "execution_count": null,
   "id": "3af1d55f",
   "metadata": {},
   "outputs": [],
   "source": [
    "plt.legend(loc)"
   ]
  }
 ],
 "metadata": {
  "kernelspec": {
   "display_name": "Python 3 (ipykernel)",
   "language": "python",
   "name": "python3"
  },
  "language_info": {
   "codemirror_mode": {
    "name": "ipython",
    "version": 3
   },
   "file_extension": ".py",
   "mimetype": "text/x-python",
   "name": "python",
   "nbconvert_exporter": "python",
   "pygments_lexer": "ipython3",
   "version": "3.9.12"
  }
 },
 "nbformat": 4,
 "nbformat_minor": 5
}
