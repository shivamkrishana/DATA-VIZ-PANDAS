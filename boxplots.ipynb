{
 "cells": [
  {
   "cell_type": "code",
   "execution_count": 1,
   "id": "b2ed0c62",
   "metadata": {},
   "outputs": [],
   "source": [
    "#BOXPLOTS"
   ]
  },
  {
   "cell_type": "code",
   "execution_count": 2,
   "id": "6e17dfc6",
   "metadata": {},
   "outputs": [],
   "source": [
    "#boxplot is the visual representation of the depicting groups\n",
    "#of numerical data through their quartiles. Boxplot is also used for \n",
    "#detection of outlier in a dataset. It captures the summary of the data\n",
    "#efficiently with a simple box and whiskers and allows us to compare\n",
    "#across groups. "
   ]
  },
  {
   "cell_type": "code",
   "execution_count": 3,
   "id": "dca7f462",
   "metadata": {},
   "outputs": [],
   "source": [
    "#boxplots allow us summarize a sampe data using 25th, 50th, 75th \n",
    "#percentiles. They are also called as lower quartile, median and\n",
    "#upper quartile"
   ]
  },
  {
   "cell_type": "code",
   "execution_count": 4,
   "id": "d299d627",
   "metadata": {},
   "outputs": [],
   "source": [
    "#more about boxplots and quartiles in statistics"
   ]
  },
  {
   "cell_type": "code",
   "execution_count": 5,
   "id": "8568884e",
   "metadata": {},
   "outputs": [],
   "source": [
    "#a boxplot consists of 5 things:"
   ]
  },
  {
   "cell_type": "code",
   "execution_count": null,
   "id": "24dd6fb1",
   "metadata": {},
   "outputs": [],
   "source": [
    "1.minimum\n",
    "2.first quartile\n",
    "3.median\n",
    "4.third quartile\n",
    "5.maximum"
   ]
  },
  {
   "cell_type": "code",
   "execution_count": 6,
   "id": "e6b68a26",
   "metadata": {},
   "outputs": [],
   "source": [
    "#lets demonstrate "
   ]
  },
  {
   "cell_type": "code",
   "execution_count": 7,
   "id": "49fee9d0",
   "metadata": {},
   "outputs": [],
   "source": [
    "import pandas as pd"
   ]
  },
  {
   "cell_type": "code",
   "execution_count": 9,
   "id": "68860028",
   "metadata": {},
   "outputs": [],
   "source": [
    "df=pd.read_csv(\"df2\")"
   ]
  },
  {
   "cell_type": "code",
   "execution_count": 10,
   "id": "c838d008",
   "metadata": {},
   "outputs": [
    {
     "data": {
      "text/html": [
       "<div>\n",
       "<style scoped>\n",
       "    .dataframe tbody tr th:only-of-type {\n",
       "        vertical-align: middle;\n",
       "    }\n",
       "\n",
       "    .dataframe tbody tr th {\n",
       "        vertical-align: top;\n",
       "    }\n",
       "\n",
       "    .dataframe thead th {\n",
       "        text-align: right;\n",
       "    }\n",
       "</style>\n",
       "<table border=\"1\" class=\"dataframe\">\n",
       "  <thead>\n",
       "    <tr style=\"text-align: right;\">\n",
       "      <th></th>\n",
       "      <th>a</th>\n",
       "      <th>b</th>\n",
       "      <th>c</th>\n",
       "      <th>d</th>\n",
       "    </tr>\n",
       "  </thead>\n",
       "  <tbody>\n",
       "    <tr>\n",
       "      <th>0</th>\n",
       "      <td>0.039762</td>\n",
       "      <td>0.218517</td>\n",
       "      <td>0.103423</td>\n",
       "      <td>0.957904</td>\n",
       "    </tr>\n",
       "    <tr>\n",
       "      <th>1</th>\n",
       "      <td>0.937288</td>\n",
       "      <td>0.041567</td>\n",
       "      <td>0.899125</td>\n",
       "      <td>0.977680</td>\n",
       "    </tr>\n",
       "    <tr>\n",
       "      <th>2</th>\n",
       "      <td>0.780504</td>\n",
       "      <td>0.008948</td>\n",
       "      <td>0.557808</td>\n",
       "      <td>0.797510</td>\n",
       "    </tr>\n",
       "    <tr>\n",
       "      <th>3</th>\n",
       "      <td>0.672717</td>\n",
       "      <td>0.247870</td>\n",
       "      <td>0.264071</td>\n",
       "      <td>0.444358</td>\n",
       "    </tr>\n",
       "    <tr>\n",
       "      <th>4</th>\n",
       "      <td>0.053829</td>\n",
       "      <td>0.520124</td>\n",
       "      <td>0.552264</td>\n",
       "      <td>0.190008</td>\n",
       "    </tr>\n",
       "    <tr>\n",
       "      <th>5</th>\n",
       "      <td>0.286043</td>\n",
       "      <td>0.593465</td>\n",
       "      <td>0.907307</td>\n",
       "      <td>0.637898</td>\n",
       "    </tr>\n",
       "    <tr>\n",
       "      <th>6</th>\n",
       "      <td>0.430436</td>\n",
       "      <td>0.166230</td>\n",
       "      <td>0.469383</td>\n",
       "      <td>0.497701</td>\n",
       "    </tr>\n",
       "    <tr>\n",
       "      <th>7</th>\n",
       "      <td>0.312296</td>\n",
       "      <td>0.502823</td>\n",
       "      <td>0.806609</td>\n",
       "      <td>0.850519</td>\n",
       "    </tr>\n",
       "    <tr>\n",
       "      <th>8</th>\n",
       "      <td>0.187765</td>\n",
       "      <td>0.997075</td>\n",
       "      <td>0.895955</td>\n",
       "      <td>0.530390</td>\n",
       "    </tr>\n",
       "    <tr>\n",
       "      <th>9</th>\n",
       "      <td>0.908162</td>\n",
       "      <td>0.232726</td>\n",
       "      <td>0.414138</td>\n",
       "      <td>0.432007</td>\n",
       "    </tr>\n",
       "  </tbody>\n",
       "</table>\n",
       "</div>"
      ],
      "text/plain": [
       "          a         b         c         d\n",
       "0  0.039762  0.218517  0.103423  0.957904\n",
       "1  0.937288  0.041567  0.899125  0.977680\n",
       "2  0.780504  0.008948  0.557808  0.797510\n",
       "3  0.672717  0.247870  0.264071  0.444358\n",
       "4  0.053829  0.520124  0.552264  0.190008\n",
       "5  0.286043  0.593465  0.907307  0.637898\n",
       "6  0.430436  0.166230  0.469383  0.497701\n",
       "7  0.312296  0.502823  0.806609  0.850519\n",
       "8  0.187765  0.997075  0.895955  0.530390\n",
       "9  0.908162  0.232726  0.414138  0.432007"
      ]
     },
     "execution_count": 10,
     "metadata": {},
     "output_type": "execute_result"
    }
   ],
   "source": [
    "df"
   ]
  },
  {
   "cell_type": "code",
   "execution_count": 15,
   "id": "bace9d7f",
   "metadata": {},
   "outputs": [
    {
     "data": {
      "text/plain": [
       "<AxesSubplot:>"
      ]
     },
     "execution_count": 15,
     "metadata": {},
     "output_type": "execute_result"
    },
    {
     "data": {
      "image/png": "[encoded data removed]",
      "text/plain": [
       "<Figure size 432x288 with 1 Axes>"
      ]
     },
     "metadata": {
      "needs_background": "light"
     },
     "output_type": "display_data"
    }
   ],
   "source": [
    "df.plot.box(grid=True)"
   ]
  },
  {
   "cell_type": "code",
   "execution_count": 13,
   "id": "c97a9fbc",
   "metadata": {},
   "outputs": [],
   "source": [
    "#this is the simple boxplot"
   ]
  },
  {
   "cell_type": "code",
   "execution_count": 14,
   "id": "d33208d7",
   "metadata": {},
   "outputs": [],
   "source": [
    "#we can also enable grid and add other parameters"
   ]
  },
  {
   "cell_type": "code",
   "execution_count": null,
   "id": "48d1592f",
   "metadata": {},
   "outputs": [],
   "source": [
    "#for more details check documentation of pandas"
   ]
  }
 ],
 "metadata": {
  "kernelspec": {
   "display_name": "Python 3 (ipykernel)",
   "language": "python",
   "name": "python3"
  },
  "language_info": {
   "codemirror_mode": {
    "name": "ipython",
    "version": 3
   },
   "file_extension": ".py",
   "mimetype": "text/x-python",
   "name": "python",
   "nbconvert_exporter": "python",
   "pygments_lexer": "ipython3",
   "version": "3.9.12"
  }
 },
 "nbformat": 4,
 "nbformat_minor": 5
}
