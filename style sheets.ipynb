{
 "cells": [
  {
   "cell_type": "code",
   "execution_count": 1,
   "id": "f79d3c15",
   "metadata": {},
   "outputs": [],
   "source": [
    "#style sheets"
   ]
  },
  {
   "cell_type": "code",
   "execution_count": 2,
   "id": "a115e48e",
   "metadata": {},
   "outputs": [],
   "source": [
    "#matplotlib has style sheets that you can use to make your plots\n",
    "#look a little nicer. These style sheets include plot_bmh, plot_ggplot\n",
    "#and many more"
   ]
  },
  {
   "cell_type": "code",
   "execution_count": 3,
   "id": "6faf9553",
   "metadata": {},
   "outputs": [],
   "source": [
    "#Basically they create a set of style rules that your plots follow"
   ]
  },
  {
   "cell_type": "code",
   "execution_count": 4,
   "id": "407c9554",
   "metadata": {},
   "outputs": [],
   "source": [
    "#they give a more professioanl look to your plots"
   ]
  },
  {
   "cell_type": "code",
   "execution_count": 5,
   "id": "be241913",
   "metadata": {},
   "outputs": [],
   "source": [
    "#demonstration"
   ]
  },
  {
   "cell_type": "code",
   "execution_count": 6,
   "id": "9136adee",
   "metadata": {},
   "outputs": [],
   "source": [
    "import numpy as np\n",
    "import pandas as pd"
   ]
  },
  {
   "cell_type": "code",
   "execution_count": 7,
   "id": "e092002a",
   "metadata": {},
   "outputs": [],
   "source": [
    "df1=pd.read_csv(\"df1\",index_col=0)\n"
   ]
  },
  {
   "cell_type": "code",
   "execution_count": 8,
   "id": "6483dd1e",
   "metadata": {},
   "outputs": [
    {
     "data": {
      "text/html": [
       "<div>\n",
       "<style scoped>\n",
       "    .dataframe tbody tr th:only-of-type {\n",
       "        vertical-align: middle;\n",
       "    }\n",
       "\n",
       "    .dataframe tbody tr th {\n",
       "        vertical-align: top;\n",
       "    }\n",
       "\n",
       "    .dataframe thead th {\n",
       "        text-align: right;\n",
       "    }\n",
       "</style>\n",
       "<table border=\"1\" class=\"dataframe\">\n",
       "  <thead>\n",
       "    <tr style=\"text-align: right;\">\n",
       "      <th></th>\n",
       "      <th>A</th>\n",
       "      <th>B</th>\n",
       "      <th>C</th>\n",
       "      <th>D</th>\n",
       "    </tr>\n",
       "  </thead>\n",
       "  <tbody>\n",
       "    <tr>\n",
       "      <th>2000-01-01</th>\n",
       "      <td>1.339091</td>\n",
       "      <td>-0.163643</td>\n",
       "      <td>-0.646443</td>\n",
       "      <td>1.041233</td>\n",
       "    </tr>\n",
       "    <tr>\n",
       "      <th>2000-01-02</th>\n",
       "      <td>-0.774984</td>\n",
       "      <td>0.137034</td>\n",
       "      <td>-0.882716</td>\n",
       "      <td>-2.253382</td>\n",
       "    </tr>\n",
       "    <tr>\n",
       "      <th>2000-01-03</th>\n",
       "      <td>-0.921037</td>\n",
       "      <td>-0.482943</td>\n",
       "      <td>-0.417100</td>\n",
       "      <td>0.478638</td>\n",
       "    </tr>\n",
       "    <tr>\n",
       "      <th>2000-01-04</th>\n",
       "      <td>-1.738808</td>\n",
       "      <td>-0.072973</td>\n",
       "      <td>0.056517</td>\n",
       "      <td>0.015085</td>\n",
       "    </tr>\n",
       "    <tr>\n",
       "      <th>2000-01-05</th>\n",
       "      <td>-0.905980</td>\n",
       "      <td>1.778576</td>\n",
       "      <td>0.381918</td>\n",
       "      <td>0.291436</td>\n",
       "    </tr>\n",
       "    <tr>\n",
       "      <th>...</th>\n",
       "      <td>...</td>\n",
       "      <td>...</td>\n",
       "      <td>...</td>\n",
       "      <td>...</td>\n",
       "    </tr>\n",
       "    <tr>\n",
       "      <th>2002-09-22</th>\n",
       "      <td>1.013897</td>\n",
       "      <td>-0.288680</td>\n",
       "      <td>-0.342295</td>\n",
       "      <td>-0.638537</td>\n",
       "    </tr>\n",
       "    <tr>\n",
       "      <th>2002-09-23</th>\n",
       "      <td>-0.642659</td>\n",
       "      <td>-0.104725</td>\n",
       "      <td>-0.631829</td>\n",
       "      <td>-0.909483</td>\n",
       "    </tr>\n",
       "    <tr>\n",
       "      <th>2002-09-24</th>\n",
       "      <td>0.370136</td>\n",
       "      <td>0.233219</td>\n",
       "      <td>0.535897</td>\n",
       "      <td>-1.552605</td>\n",
       "    </tr>\n",
       "    <tr>\n",
       "      <th>2002-09-25</th>\n",
       "      <td>0.183339</td>\n",
       "      <td>1.285783</td>\n",
       "      <td>-1.052593</td>\n",
       "      <td>-2.565844</td>\n",
       "    </tr>\n",
       "    <tr>\n",
       "      <th>2002-09-26</th>\n",
       "      <td>0.775133</td>\n",
       "      <td>-0.850374</td>\n",
       "      <td>0.486728</td>\n",
       "      <td>-1.053427</td>\n",
       "    </tr>\n",
       "  </tbody>\n",
       "</table>\n",
       "<p>1000 rows × 4 columns</p>\n",
       "</div>"
      ],
      "text/plain": [
       "                   A         B         C         D\n",
       "2000-01-01  1.339091 -0.163643 -0.646443  1.041233\n",
       "2000-01-02 -0.774984  0.137034 -0.882716 -2.253382\n",
       "2000-01-03 -0.921037 -0.482943 -0.417100  0.478638\n",
       "2000-01-04 -1.738808 -0.072973  0.056517  0.015085\n",
       "2000-01-05 -0.905980  1.778576  0.381918  0.291436\n",
       "...              ...       ...       ...       ...\n",
       "2002-09-22  1.013897 -0.288680 -0.342295 -0.638537\n",
       "2002-09-23 -0.642659 -0.104725 -0.631829 -0.909483\n",
       "2002-09-24  0.370136  0.233219  0.535897 -1.552605\n",
       "2002-09-25  0.183339  1.285783 -1.052593 -2.565844\n",
       "2002-09-26  0.775133 -0.850374  0.486728 -1.053427\n",
       "\n",
       "[1000 rows x 4 columns]"
      ]
     },
     "execution_count": 8,
     "metadata": {},
     "output_type": "execute_result"
    }
   ],
   "source": [
    "df1"
   ]
  },
  {
   "cell_type": "code",
   "execution_count": 10,
   "id": "3690842d",
   "metadata": {},
   "outputs": [
    {
     "data": {
      "text/plain": [
       "<AxesSubplot:>"
      ]
     },
     "execution_count": 10,
     "metadata": {},
     "output_type": "execute_result"
    },
    {
     "data": {
      "image/png": "[encoded data removed]",
      "text/plain": [
       "<Figure size 432x288 with 1 Axes>"
      ]
     },
     "metadata": {
      "needs_background": "light"
     },
     "output_type": "display_data"
    }
   ],
   "source": [
    "df1[\"A\"].hist()"
   ]
  },
  {
   "cell_type": "code",
   "execution_count": 11,
   "id": "00b0b71b",
   "metadata": {},
   "outputs": [],
   "source": [
    "#call the style"
   ]
  },
  {
   "cell_type": "code",
   "execution_count": 12,
   "id": "1664fe8c",
   "metadata": {},
   "outputs": [],
   "source": [
    "import matplotlib.pyplot as plt\n",
    "plt.style.use(\"ggplot\")"
   ]
  },
  {
   "cell_type": "code",
   "execution_count": 14,
   "id": "c1e30ad9",
   "metadata": {},
   "outputs": [
    {
     "data": {
      "text/plain": [
       "<AxesSubplot:>"
      ]
     },
     "execution_count": 14,
     "metadata": {},
     "output_type": "execute_result"
    },
    {
     "data": {
      "image/png": "[encoded data removed]",
      "text/plain": [
       "<Figure size 432x288 with 1 Axes>"
      ]
     },
     "metadata": {},
     "output_type": "display_data"
    }
   ],
   "source": [
    "df1[\"A\"].hist()"
   ]
  },
  {
   "cell_type": "code",
   "execution_count": 15,
   "id": "7ab6573c",
   "metadata": {},
   "outputs": [],
   "source": [
    "#call another style"
   ]
  },
  {
   "cell_type": "code",
   "execution_count": 16,
   "id": "2420c4a1",
   "metadata": {},
   "outputs": [],
   "source": [
    "plt.style.use(\"bmh\")"
   ]
  },
  {
   "cell_type": "code",
   "execution_count": 17,
   "id": "fffedc98",
   "metadata": {},
   "outputs": [
    {
     "data": {
      "text/plain": [
       "<AxesSubplot:>"
      ]
     },
     "execution_count": 17,
     "metadata": {},
     "output_type": "execute_result"
    },
    {
     "data": {
      "image/png": "[encoded data removed]",
      "text/plain": [
       "<Figure size 432x288 with 1 Axes>"
      ]
     },
     "metadata": {},
     "output_type": "display_data"
    }
   ],
   "source": [
    "df1[\"A\"].hist()"
   ]
  },
  {
   "cell_type": "code",
   "execution_count": 18,
   "id": "6c518812",
   "metadata": {},
   "outputs": [],
   "source": [
    "#call another"
   ]
  },
  {
   "cell_type": "code",
   "execution_count": 19,
   "id": "3dfcb64e",
   "metadata": {},
   "outputs": [],
   "source": [
    "plt.style.use(\"dark_background\")"
   ]
  },
  {
   "cell_type": "code",
   "execution_count": 21,
   "id": "e2d1c811",
   "metadata": {},
   "outputs": [
    {
     "data": {
      "text/plain": [
       "<AxesSubplot:>"
      ]
     },
     "execution_count": 21,
     "metadata": {},
     "output_type": "execute_result"
    },
    {
     "data": {
      "image/png": "[encoded data removed]",
      "text/plain": [
       "<Figure size 432x288 with 1 Axes>"
      ]
     },
     "metadata": {},
     "output_type": "display_data"
    }
   ],
   "source": [
    "df1[\"A\"].hist()"
   ]
  },
  {
   "cell_type": "code",
   "execution_count": 22,
   "id": "37c62ba3",
   "metadata": {},
   "outputs": [],
   "source": [
    "#call the last one"
   ]
  },
  {
   "cell_type": "code",
   "execution_count": 23,
   "id": "dc0cc9be",
   "metadata": {},
   "outputs": [],
   "source": [
    "plt.style.use(\"fivethirtyeight\")"
   ]
  },
  {
   "cell_type": "code",
   "execution_count": 25,
   "id": "d15dd11a",
   "metadata": {},
   "outputs": [
    {
     "data": {
      "text/plain": [
       "<AxesSubplot:>"
      ]
     },
     "execution_count": 25,
     "metadata": {},
     "output_type": "execute_result"
    },
    {
     "data": {
      "image/png": "[encoded data removed]",
      "text/plain": [
       "<Figure size 432x288 with 1 Axes>"
      ]
     },
     "metadata": {},
     "output_type": "display_data"
    }
   ],
   "source": [
    "df1[\"A\"].hist()"
   ]
  },
  {
   "cell_type": "code",
   "execution_count": 26,
   "id": "1f40faa1",
   "metadata": {},
   "outputs": [],
   "source": [
    "#thats all about the style sheets"
   ]
  },
  {
   "cell_type": "code",
   "execution_count": null,
   "id": "02ed53ee",
   "metadata": {},
   "outputs": [],
   "source": [
    "#more on histograms in future videos"
   ]
  }
 ],
 "metadata": {
  "kernelspec": {
   "display_name": "Python 3 (ipykernel)",
   "language": "python",
   "name": "python3"
  },
  "language_info": {
   "codemirror_mode": {
    "name": "ipython",
    "version": 3
   },
   "file_extension": ".py",
   "mimetype": "text/x-python",
   "name": "python",
   "nbconvert_exporter": "python",
   "pygments_lexer": "ipython3",
   "version": "3.9.12"
  }
 },
 "nbformat": 4,
 "nbformat_minor": 5
}
